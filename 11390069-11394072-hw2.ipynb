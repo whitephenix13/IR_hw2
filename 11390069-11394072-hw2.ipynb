{
 "cells": [
  {
   "cell_type": "markdown",
   "metadata": {},
   "source": [
    "# Information Retrieval I #\n",
    "## Assignment 2: retrieval models [100 points + 10 bonus points] ##\n",
    "**TA**: Christophe Van Gysel (cvangysel@uva.nl; C3.258B, Science Park 904)\n",
    "\n",
    "**Secondary TAs**: Harrie Oosterhuis, Nikos Voskarides"
   ]
  },
  {
   "cell_type": "markdown",
   "metadata": {},
   "source": [
    "In this assignment you will get familiar with basic information retrieval concepts. You will implement and evaluate different information retrieval ranking models and evaluate their performance.\n",
    "\n",
    "We provide you with a VirtualBox image that comes pre-loaded with an index and a Python installation. To query the index, you'll use a Python package ([pyndri](https://github.com/cvangysel/pyndri)) that allows easy access to the underlying document statistics.\n",
    "\n",
    "For evaluation you'll use the [TREC Eval](https://github.com/usnistgov/trec_eval) utility, provided by the National Institute of Standards and Technology of the United States. TREC Eval is the de facto standard way to compute Information Retrieval measures and is frequently referenced in scientific papers.\n",
    "\n",
    "This is a **groups-of-two assignment**, the deadline is **23:59 - 25 January, 2017**. Code quality, informative comments and convincing analysis of the results will be considered when grading. Submission should be done through blackboard, questions can be asked on the course [Piazza](https://piazza.com/class/ixoz63p156g1ts).\n",
    "\n",
    "### Technicalities (must-read!) ###\n",
    "This assignment comes pre-loaded on a VirtualBox running Ubuntu. We have configured the indexing software and Python environment such that it works out of the box. You are allowed to extract the files from the VirtualBox and set-up your own non-virtualized environment. However, in this case you are on your own w.r.t. software support.\n",
    "\n",
    "The assignment directory is organized as follows:\n",
    "   * `./assignment.ipynb` (this file): the description of the assignment.\n",
    "   * `./index/`: the index we prepared for you.\n",
    "   * `./ap_88_90/`: directory with ground-truth and evaluation sets:\n",
    "      * `qrel_test`: test query relevance collection (**test set**).\n",
    "      * `qrel_validation`: validation query relevance collection (**validation set**).\n",
    "      * `topics_title`: semicolon-separated file with query identifiers and terms.\n",
    "      \n",
    "`Python + Jupyter`, `Indri`, `Gensim` and `Pyndri` come pre-installed (see `$HOME/.local`). TREC Eval can be found in `$HOME/Downloads/trec_eval.9.0`. The password of the `student` account on the VirtualBox is `datascience`."
   ]
  },
  {
   "cell_type": "markdown",
   "metadata": {},
   "source": [
    "### TREC Eval primer ###\n",
    "The TREC Eval utility can be downloaded and compiled as follows:\n",
    "\n",
    "    git clone https://github.com/usnistgov/trec_eval.git\n",
    "    cd trec_eval\n",
    "    make\n",
    "\n",
    "TREC Eval computes evaluation scores given two files: ground-truth information regarding relevant documents, named *query relevance* or *qrel*, and a ranking of documents for a set of queries, referred to as a *run*. The *qrel* will be supplied by us and should not be changed. For every retrieval model (or combinations thereof) you will generate a run of the top-1000 documents for every query. The format of the *run* file is as follows:\n",
    "\n",
    "    $query_identifier Q0 $document_identifier $rank_of_document_for_query $query_document_similarity $run_identifier\n",
    "    \n",
    "where\n",
    "   * `$query_identifier` is the unique identifier corresponding to a query (usually this follows a sequential numbering).\n",
    "   * `Q0` is a legacy field that you can ignore.\n",
    "   * `$document_identifier` corresponds to the unique identifier of a document (e.g., APXXXXXXX where AP denotes the collection and the Xs correspond to a unique numerical identifier).\n",
    "   * `$rank_of_document_for_query` denotes the rank of the document for the particular query. This field is ignored by TREC Eval and is only maintained for legacy support. The ranks are computed by TREC Eval itself using the `$query_document_similarity` field (see next). However, it remains good practice to correctly compute this field.\n",
    "   * `$query_document_similarity` is a score indicating the similarity between query and document where a higher score denotes greater similarity.\n",
    "   * `$run_identifier` is an identifier of the run. This field is for your own convenience and has no purpose beyond bookkeeping.\n",
    "   \n",
    "For example, say we have two queries: `Q1` and `Q2` and we rank three documents (`DOC1`, `DOC2`, `DOC3`). For query `Q1`, we find the following similarity scores `score(Q1, DOC1) = 1.0`, `score(Q1, DOC2) = 0.5`, `score(Q1, DOC3) = 0.75`; and for `Q2`: `score(Q2, DOC1) = -0.1`, `score(Q2, DOC2) = 1.25`, `score(Q1, DOC3) = 0.0`. We can generate run using the following snippet:"
   ]
  },
  {
   "cell_type": "code",
   "execution_count": 11,
   "metadata": {
    "collapsed": false,
    "scrolled": false
   },
   "outputs": [
    {
     "name": "stdout",
     "output_type": "stream",
     "text": [
      "Q1 Q0 DOC1 1 1.0 example\n",
      "Q1 Q0 DOC3 2 0.75 example\n",
      "Q1 Q0 DOC2 3 0.5 example\n",
      "Q2 Q0 DOC2 1 1.25 example\n",
      "Q2 Q0 DOC3 2 0.0 example\n",
      "Q2 Q0 DOC1 3 -0.1 example\n"
     ]
    }
   ],
   "source": [
    "import logging\n",
    "import sys\n",
    "\n",
    "def write_run(model_name, data, out_f,\n",
    "              max_objects_per_query=sys.maxsize,\n",
    "              skip_sorting=False):\n",
    "    \"\"\"\n",
    "    Write a run to an output file.\n",
    "    Parameters:\n",
    "        - model_name: identifier of run.\n",
    "        - data: dictionary mapping topic_id to object_assesments;\n",
    "            object_assesments is an iterable (list or tuple) of\n",
    "            (relevance, object_id) pairs.\n",
    "            The object_assesments iterable is sorted by decreasing order.\n",
    "        - out_f: output file stream.\n",
    "        - max_objects_per_query: cut-off for number of objects per query.\n",
    "    \"\"\"\n",
    "    for subject_id, object_assesments in data.items():\n",
    "        if not object_assesments:\n",
    "            logging.warning('Received empty ranking for %s; ignoring.',\n",
    "                            subject_id)\n",
    "\n",
    "            continue\n",
    "\n",
    "        # Probe types, to make sure everything goes alright.\n",
    "        # assert isinstance(object_assesments[0][0], float) or \\\n",
    "        #     isinstance(object_assesments[0][0], np.float32)\n",
    "        assert isinstance(object_assesments[0][1], str) or \\\n",
    "            isinstance(object_assesments[0][1], bytes)\n",
    "\n",
    "        if not skip_sorting:\n",
    "            object_assesments = sorted(object_assesments, reverse=True)\n",
    "\n",
    "        if max_objects_per_query < sys.maxsize:\n",
    "            object_assesments = object_assesments[:max_objects_per_query]\n",
    "\n",
    "        if isinstance(subject_id, bytes):\n",
    "            subject_id = subject_id.decode('utf8')\n",
    "\n",
    "        for rank, (relevance, object_id) in enumerate(object_assesments):\n",
    "            if isinstance(object_id, bytes):\n",
    "                object_id = object_id.decode('utf8')\n",
    "\n",
    "            out_f.write(\n",
    "                '{subject} Q0 {object} {rank} {relevance} '\n",
    "                '{model_name}\\n'.format(\n",
    "                    subject=subject_id,\n",
    "                    object=object_id,\n",
    "                    rank=rank + 1,\n",
    "                    relevance=relevance,\n",
    "                    model_name=model_name))\n",
    "            \n",
    "# The following writes the run to standard output.\n",
    "# In your code, you should write the runs to local\n",
    "# storage in order to pass them to trec_eval.\n",
    "write_run(\n",
    "    model_name='example',\n",
    "    data={\n",
    "        'Q1': ((1.0, 'DOC1'), (0.5, 'DOC2'), (0.75, 'DOC3')),\n",
    "        'Q2': ((-0.1, 'DOC1'), (1.25, 'DOC2'), (0.0, 'DOC3')),\n",
    "    },\n",
    "    out_f=sys.stdout,\n",
    "    max_objects_per_query=1000)"
   ]
  },
  {
   "cell_type": "markdown",
   "metadata": {},
   "source": [
    "Now, imagine that we know that `DOC1` is relevant and `DOC3` is non-relevant for `Q1`. In addition, for `Q2` we only know of the relevance of `DOC3`. The query relevance file looks like:\n",
    "\n",
    "    Q1 0 DOC1 1\n",
    "    Q1 0 DOC3 0\n",
    "    Q2 0 DOC3 1\n",
    "    \n",
    "We store the run and qrel in files `example.run` and `example.qrel` respectively on disk. We can now use TREC Eval to compute evaluation measures. In this example, we're only interested in Mean Average Precision and we'll only show this below for brevity. However, TREC Eval outputs much more information such as NDCG, recall, precision, etc.\n",
    "\n",
    "    $ trec_eval -m all_trec -q example.qrel example.run | grep -E \"^map\\s\"\n",
    "    > map                   \tQ1\t1.0000\n",
    "    > map                   \tQ2\t0.5000\n",
    "    > map                   \tall\t0.7500\n",
    "    \n",
    "Now that we've discussed the output format of rankings and how you can compute evaluation measures from these rankings, we'll now proceed with an overview of the indexing framework you'll use."
   ]
  },
  {
   "cell_type": "markdown",
   "metadata": {},
   "source": [
    "### Pyndri primer ###\n",
    "For this assignment you will use [Pyndri](https://github.com/cvangysel/pyndri) [[1](https://arxiv.org/abs/1701.00749)], a python interface for [Indri](https://www.lemurproject.org/indri.php). We have indexed the document collection and you can query the index using Pyndri. We will start by giving you some examples of what Pyndri can do:\n",
    "\n",
    "First we read the document collection index with Pyndri:"
   ]
  },
  {
   "cell_type": "code",
   "execution_count": 12,
   "metadata": {
    "collapsed": false,
    "scrolled": true
   },
   "outputs": [],
   "source": [
    "import pyndri\n",
    "\n",
    "index = pyndri.Index('index/')"
   ]
  },
  {
   "cell_type": "markdown",
   "metadata": {},
   "source": [
    "The loaded index can be used to access a collection of documents in an easy manner. We'll give you some examples to get some idea of what it can do, it is up to you to figure out how to use it for the remainder of the assignment.\n",
    "\n",
    "First let's look at the number of documents, since Pyndri indexes the documents using incremental identifiers we can simply take the lowest index and the maximum document and consider the difference:"
   ]
  },
  {
   "cell_type": "code",
   "execution_count": 13,
   "metadata": {
    "collapsed": false
   },
   "outputs": [
    {
     "name": "stdout",
     "output_type": "stream",
     "text": [
      "There are 164597 documents in this collection.\n"
     ]
    }
   ],
   "source": [
    "print(\"There are %d documents in this collection.\" % (index.maximum_document() - index.document_base()))"
   ]
  },
  {
   "cell_type": "markdown",
   "metadata": {},
   "source": [
    "Let's take the first document out of the collection and take a look at it:"
   ]
  },
  {
   "cell_type": "code",
   "execution_count": 14,
   "metadata": {
    "collapsed": false,
    "scrolled": true
   },
   "outputs": [
    {
     "name": "stdout",
     "output_type": "stream",
     "text": [
      "('AP890425-0001', (1360, 192, 363, 0, 880, 0, 200, 0, 894, 412, 92160, 3, 192, 0, 363, 34, 1441, 0, 174134, 0, 200, 0, 894, 412, 2652, 0, 810, 107, 49, 4903, 420, 0, 1, 48, 35, 489, 0, 35, 687, 192, 243, 0, 249311, 1877, 0, 1651, 1174, 0, 2701, 117, 412, 0, 810, 391, 245233, 1225, 5838, 16, 0, 233156, 3496, 0, 393, 17, 0, 2435, 4819, 930, 0, 0, 200, 0, 894, 0, 22, 398, 145, 0, 3, 271, 115, 0, 1176, 2777, 292, 0, 725, 192, 0, 0, 50046, 0, 1901, 1130, 0, 192, 0, 408, 0, 243779, 0, 0, 553, 192, 0, 363, 0, 3747, 0, 0, 0, 0, 1176, 0, 1239, 0, 0, 1115, 17, 0, 0, 585, 192, 1963, 0, 0, 412, 54356, 0, 773, 0, 0, 0, 192, 0, 0, 1130, 0, 363, 0, 545, 192, 0, 1174, 1901, 1130, 0, 4, 398, 145, 39, 0, 577, 0, 355, 0, 491, 0, 6025, 0, 0, 193156, 88, 34, 437, 0, 0, 1852, 0, 828, 0, 1588, 0, 0, 0, 2615, 0, 0, 107, 49, 420, 0, 0, 190, 7, 714, 2701, 0, 237, 192, 157, 0, 412, 34, 437, 0, 0, 200, 6025, 26, 0, 0, 0, 0, 363, 0, 22, 398, 145, 0, 200, 638, 126222, 6018, 0, 880, 0, 0, 161, 0, 0, 319, 894, 2701, 0, 0, 0, 301, 1200, 0, 363, 251, 430, 0, 207, 0, 76143, 1773, 0, 243779, 0, 0, 72030, 0, 55, 4903, 420, 0, 2701, 1496, 420, 0, 25480, 0, 420, 0, 0, 200, 0, 392, 2949, 0, 1738, 0, 61, 0, 71, 79, 0, 200, 903, 0, 188, 53, 6, 0, 476, 2, 0, 2028, 97, 334, 0, 0, 200, 178, 0, 0, 107, 49, 0, 214, 0, 0, 0, 114, 3866, 1505, 195, 79893, 574, 0, 198, 2160, 0, 192, 0, 420, 0, 384, 0, 2701, 0, 114, 6025, 1549, 74627, 0, 238, 0, 0, 0, 3729, 0, 192, 0, 79893, 0, 0, 729, 3141, 129, 0, 192, 196764, 39, 0, 0, 714, 63, 0, 55, 420, 3356, 0, 0, 117, 412, 0, 0, 79758, 0, 1901, 1130, 4067, 2133, 0, 0, 875, 72, 0, 0, 336, 2789, 0, 0, 25, 920, 121, 104, 0, 3162, 0, 0, 420, 0, 2178, 0, 0, 386, 192545, 159306, 0, 0, 0, 1914, 0, 200, 0, 1794, 0, 2654, 0, 0, 25480, 420, 0, 2795, 0, 0, 229690, 0, 32559, 0, 0, 392, 253919, 0, 0, 0, 0, 379, 0, 0, 114, 0, 553, 10, 0, 1128, 0, 23610, 248, 151, 0, 418, 0, 651, 0, 36, 0, 0, 645, 0, 0, 513, 0, 0, 25480, 420, 34, 0, 0, 0, 15, 0, 3348, 0, 3496, 0, 35, 687, 0, 1, 48, 0, 0, 2803, 0, 0, 714, 1274, 0, 114, 62, 1006, 70268, 1200, 2357, 0, 497, 0, 497, 125, 0, 913, 4647, 3985, 0, 0, 3370, 245233, 0, 0, 687, 0, 4, 1288, 0, 0, 0, 0, 715, 0, 0, 687, 583, 0, 0, 1627, 0, 0, 11, 357, 1359, 0, 849, 0, 0, 1518, 462, 245233, 0, 0, 0, 0, 0, 0, 171, 70268, 0)) lol\n"
     ]
    }
   ],
   "source": [
    "example_document = index.document(index.document_base())\n",
    "print(example_document, 'lol')"
   ]
  },
  {
   "cell_type": "markdown",
   "metadata": {},
   "source": [
    "Here we see a document consists of two things, a string representing the external document identifier and an integer list representing the identifiers of words that make up the document. Pyndri uses integer representations for words or terms, thus a token_id is an integer that represents a word whereas the token is the actual text of the word/term. Every id has a unique token and vice versa with the exception of stop words: words so common that there are uninformative, all of these receive the zero id.\n",
    "\n",
    "To see what some ids and their matching tokens mean we take a look at the dictionary of the index:"
   ]
  },
  {
   "cell_type": "code",
   "execution_count": 15,
   "metadata": {
    "collapsed": false
   },
   "outputs": [
    {
     "name": "stdout",
     "output_type": "stream",
     "text": [
      "[(1, 'new'), (2, 'percent'), (3, 'two'), (4, '1'), (5, 'people'), (6, 'million'), (7, '000'), (8, 'government'), (9, 'president'), (10, 'years'), (11, 'state'), (12, '2'), (13, 'states'), (14, 'three'), (15, 'time')]\n"
     ]
    }
   ],
   "source": [
    "token2id, id2token, _ = index.get_dictionary()\n",
    "print(list(id2token.items())[:15])"
   ]
  },
  {
   "cell_type": "markdown",
   "metadata": {},
   "source": [
    "Using this dictionary we can see the tokens for the (non-stop) words in our example document:"
   ]
  },
  {
   "cell_type": "code",
   "execution_count": 16,
   "metadata": {
    "collapsed": false,
    "scrolled": true
   },
   "outputs": [
    {
     "name": "stdout",
     "output_type": "stream",
     "text": [
      "['52', 'students', 'arrested', 'takeover', 'university', 'massachusetts', 'building', 'fifty', 'two', 'students', 'arrested', 'tuesday', 'evening', 'occupying', 'university', 'massachusetts', 'building', 'overnight', 'protest', 'defense', 'department', 'funded', 'research', 'new', 'york', 'city', 'thousands', 'city', 'college', 'students', 'got', 'unscheduled', 'holiday', 'demonstrators', 'occupied', 'campus', 'administration', 'building', 'protest', 'possible', 'tuition', 'increases', 'prompting', 'officials', 'suspend', 'classes', '60', 'police', 'riot', 'gear', 'arrived', 'university', 'massachusetts', '5', 'p', 'm', 'two', 'hours', 'later', 'bus', 'drove', 'away', '29', 'students', 'camped', 'memorial', 'hall', 'students', 'charged', 'trespassing', '23', 'students', 'arrested', 'lying', 'bus', 'prevent', 'leaving', 'police', '300', 'students', 'stood', 'building', 'chanting', 'looking', 'students', 'hall', 'arrested', '35', 'students', 'occupied', 'memorial', 'hall', '1', 'p', 'm', 'monday', 'declined', 'offer', 'meet', 'administrators', 'provosts', 'office', 'tuesday', 'morning', 'presented', 'list', 'demands', 'halt', 'defense', 'department', 'research', '25', '000', 'student', 'campus', '40', 'students', 'left', 'building', 'tuesday', 'morning', 'university', 'administrators', 'told', 'arrested', '5', 'p', 'm', 'university', 'spokeswoman', 'jeanne', 'hopkins', 'takeover', 'second', 'western', 'massachusetts', 'campus', 'seven', 'protesters', 'arrested', 'april', '19', 'charges', 'disorderly', 'conduct', 'trespassing', 'demonstrating', 'military', 'funded', 'research', 'campus', 'particularly', 'research', 'anthrax', 'research', 'university', 'non', 'classified', 'researchers', 'make', 'work', 'public', 'university', 'rules', '11', '6', 'million', '22', 'percent', 'grant', 'money', 'received', 'university', 'came', 'defense', 'department', '1988', 'school', 'chancellor', 'joseph', 'd', 'duffey', 'issued', 'statement', 'telling', 'students', 'research', 'continue', 'campus', 'school', 'administrators', 'decide', 'differently', 'policy', 'negotiated', 'students', 'duffey', 'latest', 'occupation', 'began', 'students', 'rallying', 'monday', 'student', 'union', 'military', 'research', 'marched', 'administration', 'building', 'ducked', 'memorial', 'hall', 'en', 'route', 'followed', 'members', 'local', 'chapter', 'american', 'friends', 'service', 'committee', 'contended', 'research', 'dangerous', 'town', 'promotes', 'militarism', 'banned', 'university', 'argued', 'purpose', 'anthrax', 'research', 'peaceful', 'strain', 'bacteria', 'non', 'virulent', 'study', 'school', '23', 'years', 'incident', 'amherst', 'health', 'board', 'scheduled', 'hearing', 'wednesday', 'question', 'safety', 'anthrax', 'research', 'tuesday', 'time', '1969', 'classes', 'city', 'college', 'new', 'york', 'canceled', 'student', 'protests', 'school', 'spokesman', 'charles', 'deciccio', 'protesters', 'demanding', 'face', 'face', 'meeting', 'gov', 'mario', 'cuomo', 'feared', 'tuition', 'college', '1', '250', 'increased', 'college', 'staff', 'reduced', 'state', 'budget', 'cuts', 'governor', 'immediate', 'comment', 'tuition', 'set', 'deciccio']\n"
     ]
    }
   ],
   "source": [
    "print([id2token[word_id] for word_id in example_document[1] if word_id > 0])"
   ]
  },
  {
   "cell_type": "markdown",
   "metadata": {},
   "source": [
    "The reverse can also be done, say we want to look for news about the \"University of Massachusetts\", the tokens of that query can be converted to ids using the reverse dictionary:"
   ]
  },
  {
   "cell_type": "code",
   "execution_count": 17,
   "metadata": {
    "collapsed": false,
    "scrolled": false
   },
   "outputs": [
    {
     "name": "stdout",
     "output_type": "stream",
     "text": [
      "Query by tokens: ['university', '', 'massachusetts']\n",
      "Query by ids with stopwords: [200, 0, 894]\n",
      "Query by ids without stopwords: [200, 894]\n"
     ]
    }
   ],
   "source": [
    "query_tokens = index.tokenize(\"University of Massachusetts\")\n",
    "print(\"Query by tokens:\", query_tokens)\n",
    "query_id_tokens = [token2id.get(query_token,0) for query_token in query_tokens]\n",
    "print(\"Query by ids with stopwords:\", query_id_tokens)\n",
    "query_id_tokens = [word_id for word_id in query_id_tokens if word_id > 0]\n",
    "print(\"Query by ids without stopwords:\", query_id_tokens)"
   ]
  },
  {
   "cell_type": "markdown",
   "metadata": {},
   "source": [
    "Naturally we can now match the document and query in the id space, let's see how often a word from the query occurs in our example document:"
   ]
  },
  {
   "cell_type": "code",
   "execution_count": 18,
   "metadata": {
    "collapsed": false
   },
   "outputs": [
    {
     "name": "stdout",
     "output_type": "stream",
     "text": [
      "Document AP890425-0001 has 13 word matches with query: \"university  massachusetts\".\n",
      "Document AP890425-0001 and query \"university  massachusetts\" have a 2.5% overlap.\n"
     ]
    }
   ],
   "source": [
    "matching_words = sum([True for word_id in example_document[1] if word_id in query_id_tokens])\n",
    "print(\"Document %s has %d word matches with query: \\\"%s\\\".\" % (example_document[0], matching_words, ' '.join(query_tokens)))\n",
    "print(\"Document %s and query \\\"%s\\\" have a %.01f%% overlap.\" % (example_document[0], ' '.join(query_tokens),matching_words/float(len(example_document[1]))*100))"
   ]
  },
  {
   "cell_type": "markdown",
   "metadata": {},
   "source": [
    "While this is certainly not everything Pyndri can do, it should give you an idea of how to use it. Please take a look at the [examples](https://github.com/cvangysel/pyndri) as it will help you a lot with this assignment.\n",
    "\n",
    "**CAUTION**: Avoid printing out the whole index in this Notebook as it will generate a lot of output and is likely to corrupt the Notebook."
   ]
  },
  {
   "cell_type": "markdown",
   "metadata": {},
   "source": [
    "### Parsing the query file\n",
    "You can parse the query file (`ap_88_89/topics_title`) using the following snippet:"
   ]
  },
  {
   "cell_type": "code",
   "execution_count": 19,
   "metadata": {
    "collapsed": false,
    "scrolled": true
   },
   "outputs": [
    {
     "name": "stdout",
     "output_type": "stream",
     "text": [
      "OrderedDict([('51', 'Airbus Subsidies'), ('52', 'South African Sanctions'), ('53', 'Leveraged Buyouts'), ('54', 'Satellite Launch Contracts'), ('55', 'Insider Trading'), ('56', 'Prime (Lending) Rate Moves, Predictions'), ('57', 'MCI'), ('58', 'Rail Strikes'), ('59', 'Weather Related Fatalities'), ('60', 'Merit-Pay vs. Seniority'), ('61', 'Israeli Role in Iran-Contra Affair'), ('62', \"Military Coups D'etat\"), ('63', 'Machine Translation'), ('64', 'Hostage-Taking'), ('65', 'Information Retrieval Systems'), ('66', 'Natural Language Processing'), ('67', 'Politically Motivated Civil Disturbances'), ('68', 'Health Hazards from Fine-Diameter Fibers'), ('69', 'Attempts to Revive the SALT II Treaty'), ('70', 'Surrogate Motherhood'), ('71', 'Border Incursions'), ('72', 'Demographic Shifts in the U.S.'), ('73', 'Demographic Shifts across National Boundaries'), ('74', 'Conflicting Policy'), ('75', 'Automation'), ('76', 'U.S. Constitution - Original Intent'), ('77', 'Poaching'), ('78', 'Greenpeace'), ('79', 'FRG Political Party Positions'), ('80', '1988 Presidential Candidates Platforms'), ('81', 'Financial crunch for televangelists in the wake of the PTL scandal'), ('82', 'Genetic Engineering'), ('83', 'Measures to Protect the Atmosphere'), ('84', 'Alternative/renewable Energy Plant & Equipment Installation'), ('85', 'Official Corruption'), ('86', 'Bank Failures'), ('87', 'Criminal Actions Against Officers of Failed Financial Institutions'), ('88', 'Crude Oil Price Trends'), ('89', '\"Downstream\" Investments by OPEC Member States'), ('90', 'Data on Proven Reserves of Oil & Natural Gas Producers'), ('91', 'U.S. Army Acquisition of Advanced Weapons Systems'), ('92', 'International Military Equipment Sales'), ('93', 'What Backing Does the National Rifle Association Have?'), ('94', 'Computer-aided Crime'), ('95', 'Computer-aided Crime Detection'), ('96', 'Computer-Aided Medical Diagnosis'), ('97', 'Fiber Optics Applications'), ('98', 'Fiber Optics Equipment Manufacturers'), ('99', 'Iran-Contra Affair'), ('100', 'Controlling the Transfer of High Technology'), ('101', 'Design of the \"Star Wars\" Anti-missile Defense System'), ('102', \"Laser Research Applicable to the U.S.'s Strategic Defense Initiative\"), ('103', 'Welfare Reform'), ('104', 'Catastrophic Health Insurance'), ('105', '\"Black Monday\"'), ('106', 'U.S. Control of Insider Trading'), ('107', 'Japanese Regulation of Insider Trading'), ('108', 'Japanese Protectionist Measures'), ('109', 'Find Innovative Companies'), ('110', 'Black Resistance Against the South African Government'), ('111', 'Nuclear Proliferation'), ('112', 'Funding Biotechnology'), ('113', 'New Space Satellite Applications'), ('114', 'Non-commercial Satellite Launches'), ('115', 'Impact of the 1986 Immigration Law'), ('116', 'Generic Drug Substitutions'), ('117', 'Capacity of the U.S. Cellular Telephone Network'), ('118', 'International Terrorists'), ('119', 'Actions Against International Terrorists'), ('120', 'Economic Impact of International Terrorism'), ('121', 'Death from Cancer'), ('122', 'RDT&E of New Cancer Fighting Drugs'), ('123', 'Research into & Control of Carcinogens'), ('124', 'Alternatives to Traditional Cancer Therapies'), ('125', 'Anti-smoking Actions by Government'), ('126', 'Medical Ethics and Modern Technology'), ('127', 'U.S.-U.S.S.R. Arms Control Agreements'), ('128', 'Privatization of State Assets'), ('129', 'Soviet Spying on the U.S.'), ('130', 'Jewish Emigration and U.S.-USSR Relations'), ('131', 'McDonnell Douglas Contracts for Military Aircraft'), ('132', '\"Stealth\" Aircraft'), ('133', 'Hubble Space Telescope'), ('134', 'The Human Genome Project'), ('135', 'Possible Contributions of Gene Mapping to Medicine'), ('136', 'Diversification by Pacific Telesis'), ('137', 'Expansion in the U.S. Theme Park Industry'), ('138', 'Iranian Support for Lebanese Hostage-takers'), ('139', \"Iran's Islamic Revolution - Domestic and Foreign Social Consequences\"), ('140', 'Political Impact of Islamic Fundamentalism'), ('141', \"Japan's Handling of its Trade Surplus with the U.S.\"), ('142', 'Impact of Government Regulated Grain Farming on International Relations'), ('143', 'Why Protect U.S. Farmers?'), ('144', 'Management Problems at the United Nations'), ('145', 'Influence of the \"Pro-Israel Lobby\"'), ('146', 'Negotiating an End to the Nicaraguan Civil War'), ('147', 'Productivity Trends in the U.S. Economy'), ('148', 'Conflict in the Horn of Africa'), ('149', 'Industrial Espionage'), ('150', 'U.S. Political Campaign Financing'), ('151', 'Coping with overcrowded prisons'), ('152', 'Accusations of Cheating by Contractors on U.S. Defense Projects'), ('153', 'Insurance Coverage which pays for Long Term Care'), ('154', 'Oil Spills'), ('155', 'Right Wing Christian Fundamentalism in U.S.'), ('156', 'Efforts to enact Gun Control Legislation'), ('157', 'Causes and treatments of multiple sclerosis (MS)'), ('158', 'Term limitations for members of the U.S. Congress'), ('159', 'Electric Car Development'), ('160', 'Vitamins - The Cure for or Cause of Human Ailments'), ('161', 'Acid Rain'), ('162', 'Automobile Recalls'), ('163', 'Vietnam Veterans and Agent Orange'), ('164', 'Generic Drugs - Illegal Activities by Manufacturers'), ('165', 'Tobacco company advertising and the young'), ('166', 'Standardized testing and cultural bias'), ('167', 'Regulation of the showing of violence and explicit sex in motion picture theaters, on television, and on video cassettes.'), ('168', 'Financing AMTRAK'), ('169', 'Cost of Garbage/Trash Removal'), ('170', 'The Consequences of Implantation of Silicone Gel Breast Devices'), ('171', \"Use of Mutual Funds in an Individual's Retirement Strategy\"), ('172', 'The Effectiveness of Medical Products and Related Programs Utilized in the Cessation of Smoking.'), ('173', 'Smoking Bans'), ('174', 'Hazardous Waste Cleanup'), ('175', 'NRA Prevention of Gun Control Legislation'), ('176', 'Real-life private investigators'), ('177', 'English as the Official Language in U.S.'), ('178', 'Dog Maulings'), ('179', 'U. S. Restaurants in Foreign Lands'), ('180', 'Ineffectiveness of U.S. Embargoes/Sanctions'), ('181', 'Abuse of the Elderly by Family Members, and Medical and Nonmedical Personnel, and Initiatives Being Taken to Minimize This Mistreatment'), ('182', 'Commercial Overfishing Creates Food Fish Deficit'), ('183', 'Asbestos Related Lawsuits'), ('184', 'Corporate Pension Plans/Funds'), ('185', 'Reform of the U.S. Welfare System'), ('186', 'Difference of Learning Levels Among Inner City and More Suburban School Students'), ('187', 'Signs of the Demise of Independent Publishing'), ('188', 'Beachfront Erosion'), ('189', 'Real Motives for Murder'), ('190', 'Instances of Fraud Involving the Use of a Computer'), ('191', 'Efforts to Improve U.S. Schooling'), ('192', 'Oil Spill Cleanup'), ('193', 'Toys R Dangerous'), ('194', 'The Amount of Money Earned by Writers'), ('195', 'Stock Market Perturbations Attributable to Computer Initiated Trading'), ('196', 'School Choice Voucher System and its effects upon the entire U.S. educational program'), ('197', 'Reform of the jurisprudence system to stop juries from granting unreasonable monetary awards'), ('198', 'Gene Therapy and Its Benefits to Humankind'), ('199', 'Legality of Medically Assisted Suicides'), ('200', 'Impact of foreign textile imports on U.S. textile industry')])\n"
     ]
    }
   ],
   "source": [
    "import collections\n",
    "import io\n",
    "import logging\n",
    "import sys\n",
    "\n",
    "def parse_topics(file_or_files,\n",
    "                 max_topics=sys.maxsize, delimiter=';'):\n",
    "    assert max_topics >= 0 or max_topics is None\n",
    "\n",
    "    topics = collections.OrderedDict()\n",
    "\n",
    "    if not isinstance(file_or_files, list) and \\\n",
    "            not isinstance(file_or_files, tuple):\n",
    "        if hasattr(file_or_files, '__iter__'):\n",
    "            file_or_files = list(file_or_files)\n",
    "        else:\n",
    "            file_or_files = [file_or_files]\n",
    "\n",
    "    for f in file_or_files:\n",
    "        assert isinstance(f, io.IOBase)\n",
    "\n",
    "        for line in f:\n",
    "            assert(isinstance(line, str))\n",
    "\n",
    "            line = line.strip()\n",
    "\n",
    "            if not line:\n",
    "                continue\n",
    "\n",
    "            topic_id, terms = line.split(delimiter, 1)\n",
    "\n",
    "            if topic_id in topics and (topics[topic_id] != terms):\n",
    "                    logging.error('Duplicate topic \"%s\" (%s vs. %s).',\n",
    "                                  topic_id,\n",
    "                                  topics[topic_id],\n",
    "                                  terms)\n",
    "\n",
    "            topics[topic_id] = terms\n",
    "\n",
    "            if max_topics > 0 and len(topics) >= max_topics:\n",
    "                break\n",
    "\n",
    "    return topics\n",
    "\n",
    "with open('./ap_88_89/topics_title', 'r') as f_topics:\n",
    "    print(parse_topics([f_topics]))"
   ]
  },
  {
   "cell_type": "markdown",
   "metadata": {},
   "source": [
    "### Task 1: Implement and compare lexical IR methods [45 points] ### \n",
    "\n",
    "In this task you will implement a number of lexical methods for IR using the **Pyndri** framework. Then you will evaluate these methods on the dataset we have provided using **TREC Eval**.\n",
    "\n",
    "Use the **Pyndri** framework to get statistics of the documents (term frequency, document frequency, collection frequency; **you are not allowed to use the query functionality of Pyndri**) and implement the following scoring methods in **Python**:\n",
    "\n",
    "- [TF-IDF](http://nlp.stanford.edu/IR-book/html/htmledition/tf-idf-weighting-1.html). **[5 points]**\n",
    "- [BM25](http://nlp.stanford.edu/IR-book/html/htmledition/okapi-bm25-a-non-binary-model-1.html) with k1=1.2 and b=0.75. **[5 points]**\n",
    "- Language models ([survey](https://drive.google.com/file/d/0B-zklbckv9CHc0c3b245UW90NE0/view))\n",
    "    - Jelinek-Mercer (explore different values of 𝛌 in the range [0.1, 0.2, ..., 0.9]). **[5 points]**\n",
    "    - Dirichlet Prior (explore different values of 𝛍 [500, 1000, ..., 2000]). **[5 points]**\n",
    "    - Absolute discounting (explore different values of 𝛅 in the range [0.1, 0.2, ..., 0.9]). **[5 points]**\n",
    "    - [Positional Language Models](http://sifaka.cs.uiuc.edu/~ylv2/pub/sigir09-plm.pdf) define a language model for each position of a document, and score a document based on the scores of its PLMs. The PLM is estimated based on propagated counts of words within a document through a proximity-based density function, which both captures proximity heuristics and achieves an effect of “soft” passage retrieval. Implement the PLM, all five kernels, but only the Best position strategy to score documents. Use 𝛔 equal to 50, and Dirichlet smoothing with 𝛍 optimized on the validation set (decide how to optimize this value yourself and motivate your decision in the report). **[10 points]**\n",
    "    \n",
    "Implement the above methods and report evaluation measures (on the test set) using the hyper parameter values you optimized on the validation set (also report the values of the hyper parameters). Use TREC Eval to obtain the results and report on `NDCG@10`, Mean Average Precision (`MAP@1000`), `Precision@5` and `Recall@1000`.\n",
    "\n",
    "For the language models, create plots showing `NDCG@10` with varying values of the parameters. You can do this by chaining small scripts using shell scripting (preferred) or execute trec_eval using Python's `subprocess`.\n",
    "\n",
    "Compute significance of the results using a [two-tailed paired Student t-test](https://docs.scipy.org/doc/scipy/reference/generated/scipy.stats.ttest_rel.html) **[10 points]**. Be wary of false rejection of the null hypothesis caused by the [multiple comparisons problem](https://en.wikipedia.org/wiki/Multiple_comparisons_problem). There are multiple ways to mitigate this problem and it is up to you to choose one.\n",
    "\n",
    "Analyse the results by identifying specific queries where different methods succeed or fail and discuss possible reasons that cause these differences.\n",
    "\n",
    "**NOTE**: Don’t forget to use log computations in your calculations to avoid underflows. "
   ]
  },
  {
   "cell_type": "markdown",
   "metadata": {},
   "source": [
    "1) Use the **Pyndri** framework to get statistics of the documents (term frequency, document frequency, collection frequency; **you are not allowed to use the query functionality of Pyndri**)"
   ]
  },
  {
   "cell_type": "code",
   "execution_count": 20,
   "metadata": {
    "collapsed": false,
    "scrolled": true
   },
   "outputs": [
    {
     "name": "stdout",
     "output_type": "stream",
     "text": [
      "75056232\n",
      "0\n",
      "10000000\n",
      "20000000\n",
      "30000000\n",
      "40000000\n",
      "50000000\n",
      "60000000\n",
      "70000000\n",
      "461.63406987976697\n"
     ]
    }
   ],
   "source": [
    "import pyndri\n",
    "import numpy as np\n",
    "\n",
    "added_word = []\n",
    "query_set= set()\n",
    "#dictionary of document id to dictionnary of word index to word frequency{doc_id,{word_id, word_frequency}}\n",
    "doc_terms_frequency = {}\n",
    "nb_words_in_doc={}\n",
    "#number of unique words in document\n",
    "nb_distinct_words_in_doc = {}\n",
    "#number of document in which the word appears / total number of documents\n",
    "document_frequency={}\n",
    "total_document_nb=(index.maximum_document()-index.document_base())\n",
    "#total number of occurence of a term in the collection\n",
    "collection_frequency={}\n",
    "total_collection_words=0 \n",
    "\n",
    "#create the set of query words\n",
    "with open('./ap_88_89/topics_title', 'r') as f_topics:\n",
    "    for key, value in parse_topics([f_topics]).items():\n",
    "        for token in index.tokenize(value):\n",
    "            token_id= token2id.get(token,0)\n",
    "            if token_id>0:\n",
    "                query_set.add(token_id)\n",
    "                \n",
    "print(len(query_set)*(index.maximum_document()-index.document_base()))\n",
    "i=0\n",
    "for document_id in range(index.document_base(), index.maximum_document()):\n",
    "    doc = index.document(document_id)\n",
    "    for word_id in doc[1]:\n",
    "        if(i%10000000==0):\n",
    "            print(i)\n",
    "        if word_id in query_set:\n",
    "            #calculate document frequency \n",
    "            if word_id not in added_word:\n",
    "                if word_id not in document_frequency:\n",
    "                    document_frequency[word_id]=1\n",
    "                else:\n",
    "                    document_frequency[word_id]+=1\n",
    "                added_word.append(word_id)\n",
    "            #calculate terms frequency \n",
    "            if document_id not in doc_terms_frequency:\n",
    "                doc_terms_frequency[document_id]={}\n",
    "                doc_terms_frequency[document_id][word_id]=1\n",
    "            else:\n",
    "                if word_id not in  doc_terms_frequency[document_id]:\n",
    "                    doc_terms_frequency[document_id][word_id]=1\n",
    "                else:\n",
    "                    doc_terms_frequency[document_id][word_id]+=1\n",
    "            #calculate collection_frequency\n",
    "            if word_id not in  collection_frequency:\n",
    "                collection_frequency[word_id]=1\n",
    "            else: \n",
    "                collection_frequency[word_id]+=1\n",
    "        \n",
    "        i+=1\n",
    "    total_collection_words+=len(doc[1])\n",
    "    nb_words_in_doc[document_id]=len(doc[1])\n",
    "    nb_distinct_words_in_doc[document_id]=len(set(doc[1]))     \n",
    "    \n",
    "#reset added_word for memory reason: it is not used anymore \n",
    "added_word=[]\n",
    "\n",
    "average_doc_length = 0\n",
    "def calculate_avg_length():\n",
    "    average_doc_length = 0\n",
    "    total_doc_length = 0\n",
    "    for document_id in range(index.document_base(), index.maximum_document()):\n",
    "        doc = index.document(document_id)\n",
    "        total_doc_length += len(doc[1])\n",
    "    average_doc_length = total_doc_length / float(index.maximum_document() - index.document_base())\n",
    "    return average_doc_length\n",
    "average_doc_length = calculate_avg_length()\n",
    "print(average_doc_length)"
   ]
  },
  {
   "cell_type": "markdown",
   "metadata": {},
   "source": [
    "2.1)\n",
    "- [TF-IDF](http://nlp.stanford.edu/IR-book/html/htmledition/tf-idf-weighting-1.html). **[5 points]**\n",
    "- [BM25](http://nlp.stanford.edu/IR-book/html/htmledition/okapi-bm25-a-non-binary-model-1.html) with k1=1.2 and b=0.75. **[5 points]**\n",
    "- Language models ([survey](https://drive.google.com/file/d/0B-zklbckv9CHc0c3b245UW90NE0/view))\n",
    "    - Jelinek-Mercer (explore different values of 𝛌 in the range [0.1, 0.2, ..., 0.9]). **[5 points]**\n",
    "    - Dirichlet Prior (explore different values of 𝛍 [500, 1000, ..., 2000]). **[5 points]**\n",
    "    - Absolute discounting (explore different values of 𝛅 in the range [0.1, 0.2, ..., 0.9]). **[5 points]**\n",
    "    - [Positional Language Models](http://sifaka.cs.uiuc.edu/~ylv2/pub/sigir09-plm.pdf) define a language model for each position of a document, and score a document based on the scores of its PLMs. The PLM is estimated based on propagated counts of words within a document through a proximity-based density function, which both captures proximity heuristics and achieves an effect of “soft” passage retrieval. Implement the PLM, all five kernels, but only the Best position strategy to score documents. Use 𝛔 equal to 50, and Dirichlet smoothing with 𝛍 optimized on the validation set (decide how to optimize this value yourself and motivate your decision in the report). **[10 points]**"
   ]
  },
  {
   "cell_type": "code",
   "execution_count": 21,
   "metadata": {
    "collapsed": true
   },
   "outputs": [],
   "source": [
    "#Estimated time: 12sec \n",
    "#Preprocess some data in order to get the score faster \n",
    "#create the query dictionnary \n",
    "query_dict={}\n",
    "with open('./ap_88_89/topics_title', 'r') as f_topics:\n",
    "    for key, value in parse_topics([f_topics]).items():\n",
    "        query_dict[key]=[token2id.get(term,0) for term in index.tokenize(value) if(token2id.get(term,0) > 0)] \n",
    "\n",
    "#create the inverted index for words of the query to the document id they appear in\n",
    "term_to_doc= {}\n",
    "for document_id in range(index.document_base(), index.maximum_document()):\n",
    "    doc = index.document(document_id)\n",
    "    for term_id in doc[1]:\n",
    "        if term_id in query_set:\n",
    "            if term_id not in term_to_doc:\n",
    "                term_to_doc[term_id]=set()\n",
    "            term_to_doc[term_id].add(document_id)"
   ]
  },
  {
   "cell_type": "code",
   "execution_count": 22,
   "metadata": {
    "collapsed": false
   },
   "outputs": [],
   "source": [
    "\n",
    "#normalized, but still needs checking\n",
    "def TF_IDF(term_id,document):\n",
    "    tf = 0\n",
    "    #If a word has a non nul tf, his doc frequency is non nul so this value will be updated \n",
    "    #Otherwise, the tf is nul and this value will not matter \n",
    "    inv_doc_freq=0\n",
    "    if document in doc_terms_frequency:\n",
    "        if term_id in doc_terms_frequency[document]:\n",
    "            tf = doc_terms_frequency[document][term_id] / float(nb_words_in_doc[document])\n",
    "    if term_id in document_frequency:\n",
    "        inv_doc_freq=1.0/(document_frequency[term_id] / float(index.maximum_document() - index.document_base()))\n",
    "    return np.log(1+tf) * np.log(inv_doc_freq)\n",
    "\n",
    "def BM25(term_id,document,k1=1.5,b=0.75):\n",
    "    tf = 0\n",
    "    idf = 0\n",
    "    if document in doc_terms_frequency:\n",
    "        if term_id in doc_terms_frequency[document]:\n",
    "            tf= doc_terms_frequency[document][term_id] / float(nb_words_in_doc[document])\n",
    "    if term_id in document_frequency:\n",
    "        idf=1.0/(document_frequency[term_id] / float(index.maximum_document() - index.document_base()))\n",
    "    nom = ((k1 + 1) * tf) * idf\n",
    "    denom = k1 * ((1-b) + b * (nb_words_in_doc[document] / average_doc_length) + tf)\n",
    "    return nom / denom\n",
    "\n",
    "#return the probability to see a word given a document\n",
    "#LAMBDA TO BE TUNED \n",
    "def JelinekM (term_id,document,lamb_JM= 0.1):\n",
    "    tf_w_d = 0 \n",
    "    tf_w_c = 0 \n",
    "    if document in doc_terms_frequency:\n",
    "        if term_id in doc_terms_frequency[document]:\n",
    "            tf_w_d= doc_terms_frequency[document][term_id] / float(nb_words_in_doc[document]) \n",
    "    if term_id in collection_frequency:\n",
    "        tf_w_c=collection_frequency[term_id] / float(total_collection_words)\n",
    "    return lamb_JM* tf_w_d + (1-lamb_JM) * tf_w_c\n",
    "\n",
    "# mu to be tuned\n",
    "def dirichlet_prior(term_id,document,mu=500):\n",
    "    doc_length = float(nb_words_in_doc[document])\n",
    "    tf, df = 0, 0\n",
    "    if document in doc_terms_frequency:\n",
    "        if term_id in doc_terms_frequency[document]:\n",
    "            tf = doc_terms_frequency[document][term_id] / float(nb_words_in_doc[document])\n",
    "    if term_id in document_frequency:\n",
    "        df=document_frequency[term_id] / float(index.maximum_document() - index.document_base())\n",
    "    first = doc_length / float(doc_length + mu) * tf / float(doc_length)\n",
    "    second = mu / float(mu + doc_length) * (df / float(index.maximum_document() - index.document_base()))\n",
    "    return first + second\n",
    "\n",
    "# delta to be tuned\n",
    "def absolute_discount(term_id, document, delta=0.1):\n",
    "    doc_length = float(nb_words_in_doc[document])\n",
    "    unique_doc_length = float(nb_distinct_words_in_doc[document])\n",
    "    tf, df = 0, 0\n",
    "    if document in doc_terms_frequency:\n",
    "        if term_id in doc_terms_frequency[document]:\n",
    "            tf = doc_terms_frequency[document][term_id] / float(nb_words_in_doc[document])\n",
    "    if term_id in document_frequency:\n",
    "        df=document_frequency[term_id] / float(index.maximum_document() - index.document_base())\n",
    "    first = max(tf - delta,0) / doc_length\n",
    "    second = delta * unique_doc_length / doc_length * (df / float(index.maximum_document() - index.document_base()))\n",
    "    return first + second\n",
    "\n",
    "# do we treat p(w|Q) as zero if the word in doc does not appear in query?\n",
    "# p(w|Q) is the number of term appeared in a query divided by the number of query length\n",
    "# this is a query and doc_id function, not term_id and doc_id\n",
    "def PLM(query, document, mu=500, kn=\"\", gamma=50):\n",
    "    c = {}\n",
    "    sqd = -10000000\n",
    "    doc = index.document(document)\n",
    "    unique_word_id = set(doc[1])\n",
    "    query_list = query.split()\n",
    "    for i in range(len(doc[1])):\n",
    "        sqdi = 0\n",
    "        for unique_word_1 in unique_word_id:\n",
    "            # calculate pwq\n",
    "            pwq = 0\n",
    "            # calculate the occurence of unique word in query\n",
    "            if unique_word_1 > 0:\n",
    "                if id2token[unique_word_1] in query_list:\n",
    "                    #print(id2token[unique_word_1], document)\n",
    "                    pwq = query_list.count(id2token[unique_word_1]) / float(len(query_list))        \n",
    "            if(pwq == 0):\n",
    "                sqdi += 0\n",
    "            else:\n",
    "                # calculate pwDi\n",
    "                c[i] = {}\n",
    "                # calculate denom for pwDi\n",
    "                for unique_word_2 in unique_word_id:\n",
    "                    # calculate c_hat, loop over index j times kernel function\n",
    "                    c_temp = 0\n",
    "                    for j in range(len(doc[1])):\n",
    "                        if unique_word_2 == doc[1][j]:\n",
    "                            # TODO implement kernel function, default use gaussian\n",
    "                            c_temp += 1 * np.exp( -1 * np.power((i-j),2) / float(np.power(gamma,2)) * 2)\n",
    "                    #c_hat_result\n",
    "                    c[i][unique_word_2] = c_temp\n",
    "                #denominator for pwDi. TODO : use dirichlet smoothing\n",
    "                denom = sum(c[i].values())\n",
    "                pwDi = c[i][unique_word_1] / float(denom)\n",
    "                # sqd\n",
    "                sqdi += pwq * np.log(pwq / pwDi) \n",
    "        sqdi = sqdi * -1\n",
    "        # get the maximum value of sqd, THIS IS BEST POSITION STRATEGY\n",
    "        temp = max(sqd, sqdi)\n",
    "        sqd = temp\n",
    "    return sqd\n",
    "        \n",
    "#print(index.document_base())\n",
    "#print(PLM(\"1988 Presidential Candidates Platforms\", index.document_base()))"
   ]
  },
  {
   "cell_type": "code",
   "execution_count": 37,
   "metadata": {
    "collapsed": false
   },
   "outputs": [
    {
     "name": "stdout",
     "output_type": "stream",
     "text": [
      "1\n",
      "-0.505675289128\n"
     ]
    }
   ],
   "source": [
    "\n",
    "#normalized, but still needs checking\n",
    "def TF_IDF(term_id,document):\n",
    "    tf = 0\n",
    "    #If a word has a non nul tf, his doc frequency is non nul so this value will be updated \n",
    "    #Otherwise, the tf is nul and this value will not matter \n",
    "    inv_doc_freq=0\n",
    "    if document in doc_terms_frequency:\n",
    "        if term_id in doc_terms_frequency[document]:\n",
    "            tf = doc_terms_frequency[document][term_id] / float(nb_words_in_doc[document])\n",
    "    if term_id in document_frequency:\n",
    "        inv_doc_freq=1.0/(document_frequency[term_id] / float(index.maximum_document() - index.document_base()))\n",
    "    return np.log(1+tf) * np.log(inv_doc_freq)\n",
    "\n",
    "def BM25(term_id,document,k1=1.5,b=0.75):\n",
    "    tf = 0\n",
    "    idf = 0\n",
    "    if document in doc_terms_frequency:\n",
    "        if term_id in doc_terms_frequency[document]:\n",
    "            tf= doc_terms_frequency[document][term_id] / float(nb_words_in_doc[document])\n",
    "    if term_id in document_frequency:\n",
    "        idf=1.0/(document_frequency[term_id] / float(index.maximum_document() - index.document_base()))\n",
    "    nom = ((k1 + 1) * tf) * idf\n",
    "    denom = k1 * ((1-b) + b * (nb_words_in_doc[document] / average_doc_length) + tf)\n",
    "    return nom / denom\n",
    "\n",
    "#return the probability to see a word given a document\n",
    "#LAMBDA TO BE TUNED \n",
    "def JelinekM (term_id,document,lamb_JM= 0.1):\n",
    "    tf_w_d = 0 \n",
    "    tf_w_c = 0 \n",
    "    if document in doc_terms_frequency:\n",
    "        if term_id in doc_terms_frequency[document]:\n",
    "            tf_w_d= doc_terms_frequency[document][term_id] / float(nb_words_in_doc[document]) \n",
    "    if term_id in collection_frequency:\n",
    "        tf_w_c=collection_frequency[term_id] / float(total_collection_words)\n",
    "    return lamb_JM* tf_w_d + (1-lamb_JM) * tf_w_c\n",
    "\n",
    "# mu to be tuned\n",
    "def dirichlet_prior(term_id,document,mu=500):\n",
    "    doc_length = float(nb_words_in_doc[document])\n",
    "    tf, df = 0, 0\n",
    "    if document in doc_terms_frequency:\n",
    "        if term_id in doc_terms_frequency[document]:\n",
    "            tf = doc_terms_frequency[document][term_id] / float(nb_words_in_doc[document])\n",
    "    if term_id in document_frequency:\n",
    "        df=document_frequency[term_id] / float(index.maximum_document() - index.document_base())\n",
    "    first = doc_length / float(doc_length + mu) * tf / float(doc_length)\n",
    "    second = mu / float(mu + doc_length) * (df / float(index.maximum_document() - index.document_base()))\n",
    "    return first + second\n",
    "\n",
    "# delta to be tuned\n",
    "def absolute_discount(term_id, document, delta=0.1):\n",
    "    doc_length = float(nb_words_in_doc[document])\n",
    "    unique_doc_length = float(nb_distinct_words_in_doc[document])\n",
    "    tf, df = 0, 0\n",
    "    if document in doc_terms_frequency:\n",
    "        if term_id in doc_terms_frequency[document]:\n",
    "            tf = doc_terms_frequency[document][term_id] / float(nb_words_in_doc[document])\n",
    "    if term_id in document_frequency:\n",
    "        df=document_frequency[term_id] / float(index.maximum_document() - index.document_base())\n",
    "    first = max(tf - delta,0) / doc_length\n",
    "    second = delta * unique_doc_length / doc_length * (df / float(index.maximum_document() - index.document_base()))\n",
    "    return first + second\n",
    "\n",
    "# do we treat p(w|Q) as zero if the word in doc does not appear in query?\n",
    "# p(w|Q) is the number of term appeared in a query divided by the number of query length\n",
    "# this is a query and doc_id function, not term_id and doc_id\n",
    "def PLM(query, document, mu=500, kn=\"\", gamma=50):\n",
    "    #CHANGE: give ids inPLM\n",
    "    c = {}\n",
    "    sqd = -10000000\n",
    "    doc = index.document(document)\n",
    "    unique_word_id = set(doc[1])\n",
    "    query_list = [token2id.get(term,0) for term in query.split()]\n",
    "    for i in range(len(doc[1])):\n",
    "        sqdi = 0\n",
    "        for query_word in set(query_list):\n",
    "            \n",
    "            # calculate pwq\n",
    "            pwq = 0\n",
    "            # calculate the occurence of unique word in query\n",
    "            if query_word > 0:\n",
    "                pwq = query_list.count(query_word) / float(len(query_list))       \n",
    "            \n",
    "            if(pwq == 0):\n",
    "                sqdi += 0\n",
    "            else:\n",
    "                # calculate pwDi\n",
    "                c[i] = {}\n",
    "                # calculate denom for pwDi\n",
    "                # for unique_word_2 in unique_word_id:\n",
    "                    # calculate c_hat, loop over index j times kernel function\n",
    "                    # c_temp = 0\n",
    "                for j in range(len(doc[1])):\n",
    "                    word = doc[1][j]\n",
    "                    # TODO implement kernel function, default use gaussian\n",
    "                    if word not in c[i]:\n",
    "                        c[i][word] = 0\n",
    "                    c[i][word] += 1 * np.exp( -1 * np.power((i-j),2) / float(np.power(gamma,2)) * 2)\n",
    "                #denominator for pwDi. TODO : use dirichlet smoothing\n",
    "                denom = sum(c[i].values())\n",
    "                pwDi = c[i][query_word] / float(denom)\n",
    "                # sqd\n",
    "                sqdi += pwq * np.log(pwq / pwDi) \n",
    "        sqdi = sqdi * -1\n",
    "        # get the maximum value of sqd, THIS IS BEST POSITION STRATEGY\n",
    "        temp = max(sqd, sqdi)\n",
    "        sqd = temp\n",
    "    return sqd\n",
    "        \n",
    "print(index.document_base())\n",
    "print(PLM(\"1988 Presidential Candidates Platforms Presidential\", index.document_base()))"
   ]
  },
  {
   "cell_type": "markdown",
   "metadata": {},
   "source": [
    "2.2) Testing different values of 𝛌(Jelinek Mercer), 𝛍(Dirichlet prior), 𝛅(Absolute discount) and 𝛍(PLM) and optimizing on the validation set "
   ]
  },
  {
   "cell_type": "code",
   "execution_count": null,
   "metadata": {
    "collapsed": false
   },
   "outputs": [],
   "source": [
    "scores_PLM = {}\n",
    "prog_PLM\n",
    "for query_id, term_id_list in query_dict.items():\n",
    "        scores_PLM[query_id] = []\n",
    "        document_set=set()\n",
    "        for term_id in term_id_list:\n",
    "                document_set= document_set | set(term_to_doc[term_id])\n",
    "        for document_id in document_set:\n",
    "            if prog_PLM%1000000==0:\n",
    "                print(prog_PLM,\"/\" + str(4100000))\n",
    "            prog_PLM+=1\n",
    "            scores_PLM[query_id].append((PLM(term_id_list,document_id),index.document(doc_id)[0]))"
   ]
  },
  {
   "cell_type": "code",
   "execution_count": null,
   "metadata": {
    "collapsed": false,
    "scrolled": true
   },
   "outputs": [],
   "source": [
    "#DO NOT RUN: EXTREMELY LONG AND MEMORY CONSUMMING : compute the values for the run files (score)\n",
    "#Tuning hyperparameters \n",
    "lambda_range= [0.1,0.4,0.7,0.9]\n",
    "mu_range= [500,1000,1500,2000]\n",
    "delta_range= [0.1,0.4,0.7,0.9]\n",
    "#Array of Dictionnary of term to dictionnary of doc_ID to score\n",
    "length = len(lambda_range)+len(mu_range)+len(delta_range)\n",
    "word_document_score = []\n",
    "for i in range(length):\n",
    "    word_document_score.append({})\n",
    "#Array of Dictionnary of query to tuple (score, document)\n",
    "scores = []\n",
    "for i in range(length):\n",
    "    scores.append({})\n",
    "    \n",
    "prog =0\n",
    "for term_id in query_set:\n",
    "    if term_id not in word_document_score[0]:\n",
    "        for j in range(0,len(scores)):\n",
    "            word_document_score[j][term_id] = {}\n",
    "    for document_id in term_to_doc[term_id]:\n",
    "        if prog%1000000==0:\n",
    "            print(prog,\"/2 600 000\")\n",
    "        prog+=1\n",
    "        #compute scores\n",
    "        for i in range(0,len(lambda_range)):\n",
    "            word_document_score[i][term_id][document_id]=JelinekM(term_id, document_id,lambda_range[i])\n",
    "        for i in range(0,len(mu_range)):\n",
    "            word_document_score[i+len(lambda_range)][term_id][document_id]=dirichlet_prior(term_id, document_id,mu_range[i])\n",
    "        for i in range(0,len(delta_range)):\n",
    "            word_document_score[i+len(lambda_range)+len(mu_range)][term_id][document_id]=absolute_discount(term_id, document_id,delta_range[i])\n",
    "\n",
    "prog=0\n",
    "            \n",
    "for query_id, term_id_list in query_dict.items():\n",
    "    for j in range(0,len(scores)):\n",
    "        scores[j][query_id] = []\n",
    "        temp_doc_to_score={}\n",
    "        for term_id in term_id_list:\n",
    "            for document_id in term_to_doc[term_id]:\n",
    "                if prog%1000000==0:\n",
    "                    print(prog,\"/\" + str(4100000 * length ))\n",
    "                prog+=1\n",
    "                if document_id not in temp_doc_to_score:\n",
    "                    temp_doc_to_score[document_id]=0\n",
    "                temp_doc_to_score[document_id]+=word_document_score[j][term_id][document_id]\n",
    "        for doc_id in temp_doc_to_score:\n",
    "            scores[j][query_id].append((temp_doc_to_score[doc_id], index.document(doc_id)[0]))\n",
    "        #reset variable to save memory\n",
    "        temp_doc_to_score={}\n",
    "#reset variable to save memory\n",
    "word_document_score= []"
   ]
  },
  {
   "cell_type": "code",
   "execution_count": null,
   "metadata": {
    "collapsed": false,
    "scrolled": true
   },
   "outputs": [],
   "source": [
    "#DO NOT RUN (write the run files given the previous scores)\n",
    "for j in range(0,len(scores)):\n",
    "    name=\"\"\n",
    "    ind=0\n",
    "    if(j<len(lambda_range)):\n",
    "        ind=j\n",
    "        name=\"jelineM_\"+str(lambda_range[ind])\n",
    "    elif(len(lambda_range)<=j and j< (len(lambda_range)+len(mu_range))):\n",
    "        ind=j-len(lambda_range)\n",
    "        name=\"dirichlet_prior_\"+str(mu_range[ind])\n",
    "    else:\n",
    "        ind=j-len(lambda_range)-len(mu_range)\n",
    "        name=\"absolute_discount_\"+str(delta_range[ind])\n",
    "        # data={\n",
    "        # 'Q1': ((1.0, 'DOC1'), (0.5, 'DOC2'), (0.75, 'DOC3')),\n",
    "        # 'Q2': ((-0.1, 'DOC1'), (1.25, 'DOC2'), (0.0, 'DOC3')),\n",
    "    # }\n",
    "    write_run(model_name='tf-idf',data=scores[j],out_f=open('./ap_88_89/'+name+'.run', 'w'),max_objects_per_query=1000)"
   ]
  },
  {
   "cell_type": "code",
   "execution_count": 27,
   "metadata": {
    "collapsed": false
   },
   "outputs": [],
   "source": [
    "#Usefull function to display trec_eval measures: \n",
    "import os\n",
    "import random as rand \n",
    "from subprocess import Popen, PIPE, CalledProcessError\n",
    "\n",
    "def executeTrecEval(filename,validation):\n",
    "    qrel = \"validation\" if validation else \"test\"\n",
    "    cmd =[\"trec_eval\",\"-m\",\"all_trec\",\"-q\",\"ap_88_89/qrel_\"+qrel,\"ap_88_89/\"+filename+\".run\"]\n",
    "    p = Popen(cmd, stdout=PIPE, stderr=PIPE)\n",
    "    stdout, stderr = p.communicate()\n",
    "    return (stdout)\n",
    "\n",
    "def getData(tex,filt=None):\n",
    "    tex=tex.replace(\"\\\\t\",\" \")\n",
    "    tex=tex.replace(\"\\\\n\",\" \")\n",
    "    tex=tex.replace('b\"',\"\")\n",
    "    tex=tex.replace('\"',\"\")\n",
    "    tex_array=tex.split(\" \")\n",
    "    tex_array=[x for x in tex_array if (x!='')]\n",
    "    tex_array2=[]\n",
    "    for i in range(len(tex_array)):\n",
    "        if i%3 ==0:\n",
    "            tex_array2.append([tex_array[i]])\n",
    "        else:\n",
    "            tex_array2[i//3].append(tex_array[i])\n",
    "    good_index=[]\n",
    "    res=[]\n",
    "    if(filt!=None and len(filt)>0):\n",
    "        for j in range(len(filt)):\n",
    "            for k in range(len(tex_array2)):\n",
    "                if tex_array2[k][0]==filt[j]:\n",
    "                    good_index.append(k)\n",
    "        for l in range(len(good_index)):\n",
    "            res.append(tex_array2[good_index[l]])\n",
    "        return res\n",
    "    return tex_array2\n",
    "\n",
    "def getMean(array):\n",
    "    delete_index=[]\n",
    "    for k in range(len(array)):\n",
    "        if array[k][1]!=\"all\":\n",
    "            delete_index.append(k)\n",
    "    for l in range(len(delete_index)):\n",
    "        del array[delete_index[l]-l]\n",
    "    return array\n",
    "\n",
    "def whoWins2(meanArray1,meanArray2):\n",
    "    win1=0\n",
    "    win2=0\n",
    "    for k in range(len(meanArray1)):\n",
    "        if (float(meanArray1[k][2])>float(meanArray2[k][2])):\n",
    "            win1+=1\n",
    "        elif (float(meanArray1[k][2])<float(meanArray2[k][2])):\n",
    "            win2+=1\n",
    "    if win1>win2:\n",
    "        return 1\n",
    "    elif win1==win2:\n",
    "        #same score: return a random one \n",
    "        coin=rand.randint(0,1)\n",
    "        return 1 if(coin==0) else -1\n",
    "    else :\n",
    "        return -1\n",
    "def whoWins(list_mean_array):\n",
    "    winner_index=0\n",
    "    for i in range(1,len(list_mean_array)):\n",
    "        if(whoWins2(list_mean_array[i],list_mean_array[winner_index])==1):\n",
    "            winner_index=i\n",
    "    return winner_index\n",
    "           \n",
    "def dataToString(array,filt=None):\n",
    "    s=''\n",
    "    for i in range(len(array)):\n",
    "        elem=array[i]\n",
    "        s+=elem[0]+\" \"+elem[1]+\" \"+elem[2]+\"\\n\"\n",
    "    return s"
   ]
  },
  {
   "cell_type": "code",
   "execution_count": 30,
   "metadata": {
    "collapsed": false,
    "scrolled": true
   },
   "outputs": [
    {
     "name": "stdout",
     "output_type": "stream",
     "text": [
      "Best lambda for jelinek mercer 0.9\n",
      "Best mu for dirichlet_prior 2000\n",
      "Best delta for absolute_discount 0.7\n",
      "ndcg_cut_10 103 0.0663\n",
      "ndcg_cut_10 111 0.0663\n",
      "ndcg_cut_10 114 0.0000\n",
      "ndcg_cut_10 120 0.0000\n",
      "ndcg_cut_10 123 0.0000\n",
      "ndcg_cut_10 135 0.3590\n",
      "ndcg_cut_10 143 0.0000\n",
      "ndcg_cut_10 144 0.0000\n",
      "ndcg_cut_10 151 0.2985\n",
      "ndcg_cut_10 155 0.0000\n",
      "ndcg_cut_10 158 0.0000\n",
      "ndcg_cut_10 165 0.2736\n",
      "ndcg_cut_10 167 0.3471\n",
      "ndcg_cut_10 170 0.7123\n",
      "ndcg_cut_10 173 0.8268\n",
      "ndcg_cut_10 180 0.0000\n",
      "ndcg_cut_10 182 0.0663\n",
      "ndcg_cut_10 192 0.0851\n",
      "ndcg_cut_10 53 0.0851\n",
      "ndcg_cut_10 57 0.2785\n",
      "ndcg_cut_10 69 0.0000\n",
      "ndcg_cut_10 74 0.2201\n",
      "ndcg_cut_10 78 0.4775\n",
      "ndcg_cut_10 86 0.0000\n",
      "ndcg_cut_10 89 0.2985\n",
      "ndcg_cut_10 90 0.4480\n",
      "ndcg_cut_10 92 0.0000\n",
      "ndcg_cut_10 93 0.5022\n",
      "ndcg_cut_10 94 0.0000\n",
      "ndcg_cut_10 95 0.0000\n",
      "ndcg_cut_10 all 0.1804\n",
      "\n"
     ]
    }
   ],
   "source": [
    "#Use trec_eval to get the best parameter \n",
    "import os\n",
    "from subprocess import Popen, PIPE, CalledProcessError\n",
    "\n",
    "filename= \"absolute_discount_0.7\";\n",
    "filename= \"dirichlet_prior_500\";\n",
    "\n",
    "lambda_range= [0.1,0.4,0.7,0.9]\n",
    "list_mean_lambda=[]\n",
    "filename= \"jelineM_\"\n",
    "for i in range(len(lambda_range)):\n",
    "    stdout = executeTrecEval(filename+str(lambda_range[i]),True)\n",
    "    list_mean_lambda.append(getMean(getData(str(stdout),[\"P_1000\",\"recall_1000\",\"ndcg\"])))\n",
    "tuned_lambda= lambda_range[whoWins(list_mean_lambda)]\n",
    "print(\"Best lambda for jelinek mercer\",tuned_lambda)\n",
    "\n",
    "mu_range= [500,1000,1500,2000]\n",
    "list_mean_mu=[]\n",
    "filename= \"dirichlet_prior_\"\n",
    "for i in range(len(mu_range)):\n",
    "    stdout = executeTrecEval(filename+str(mu_range[i]),True)\n",
    "    list_mean_mu.append(getMean(getData(str(stdout),[\"P_1000\",\"recall_1000\",\"ndcg\"])))\n",
    "tuned_mu= mu_range[whoWins(list_mean_mu)]\n",
    "print(\"Best mu for dirichlet_prior\",tuned_mu)\n",
    "\n",
    "delta_range= [0.1,0.4,0.7,0.9]\n",
    "list_mean_delta=[]\n",
    "filename= \"absolute_discount_\"\n",
    "for i in range(len(delta_range)):\n",
    "    stdout = executeTrecEval(filename+str(delta_range[i]),True)\n",
    "    list_mean_delta.append(getMean(getData(str(stdout),[\"P_1000\",\"recall_1000\",\"ndcg\"])))\n",
    "tuned_delta= delta_range[whoWins(list_mean_delta)]\n",
    "\n",
    "print(\"Best delta for absolute_discount\",tuned_delta)\n",
    "\n",
    "stdout = executeTrecEval(\"absolute_discount_0.1\",True)\n",
    "print((dataToString(getData(str(stdout),[\"ndcg_cut_10\"]))))"
   ]
  },
  {
   "cell_type": "markdown",
   "metadata": {},
   "source": [
    "3) Implement the above methods and report evaluation measures (on the test set) using the hyper parameter values you optimized on the validation set (also report the values of the hyper parameters). Use TREC Eval to obtain the results and report on `NDCG@10`, Mean Average Precision (`MAP@1000`), `Precision@5` and `Recall@1000`.\n"
   ]
  },
  {
   "cell_type": "code",
   "execution_count": null,
   "metadata": {
    "collapsed": true
   },
   "outputs": [],
   "source": [
    "#generate run files "
   ]
  },
  {
   "cell_type": "code",
   "execution_count": 68,
   "metadata": {
    "collapsed": true
   },
   "outputs": [],
   "source": [
    "#display measures\n",
    "filename= \"jelineM_\"\n",
    "filename= \"dirichlet_prior_\"\n",
    "filename= \"absolute_discount_\"\n"
   ]
  },
  {
   "cell_type": "markdown",
   "metadata": {},
   "source": [
    "4) For the language models, create plots showing `NDCG@10` with varying values of the parameters. You can do this by chaining small scripts using shell scripting (preferred) or execute trec_eval using Python's `subprocess`.\n"
   ]
  },
  {
   "cell_type": "code",
   "execution_count": null,
   "metadata": {
    "collapsed": true
   },
   "outputs": [],
   "source": []
  },
  {
   "cell_type": "markdown",
   "metadata": {},
   "source": [
    "5) Compute significance of the results using a [two-tailed paired Student t-test](https://docs.scipy.org/doc/scipy/reference/generated/scipy.stats.ttest_rel.html) **[10 points]**. Be wary of false rejection of the null hypothesis caused by the [multiple comparisons problem](https://en.wikipedia.org/wiki/Multiple_comparisons_problem). There are multiple ways to mitigate this problem and it is up to you to choose one.\n"
   ]
  },
  {
   "cell_type": "code",
   "execution_count": null,
   "metadata": {
    "collapsed": true
   },
   "outputs": [],
   "source": []
  },
  {
   "cell_type": "markdown",
   "metadata": {},
   "source": [
    "6) Analyse the results by identifying specific queries where different methods succeed or fail and discuss possible reasons that cause these differences.\n",
    "\n",
    "__TODO__"
   ]
  },
  {
   "cell_type": "markdown",
   "metadata": {},
   "source": [
    "### Task 2: Latent Semantic Models (LSMs) [25 points + 10 bonus points] ###\n",
    "\n",
    "In this task you will experiment with applying a distributional semantics methods ([word2vec](http://arxiv.org/abs/1411.2738)  **[5 points]**, [LSI](http://lsa3.colorado.edu/papers/JASIS.lsi.90.pdf) **[5 points]**, [LDA](https://www.cs.princeton.edu/~blei/papers/BleiNgJordan2003.pdf) **[5 points]** and [doc2vec](https://cs.stanford.edu/~quocle/paragraph_vector.pdf) **[5 points]**) for retrieval.\n",
    "\n",
    "You do not need to implement word2vec, LSI, LDA and doc2vec on your own. Instead, you can use [gensim](http://radimrehurek.com/gensim/index.html) (pre-loaded on the VirtualBox). An example on how to integrate Pyndri with Gensim for word2vec can be found [here](https://github.com/cvangysel/pyndri/blob/master/examples/word2vec.py). For the remaining latent vector space models, you will need to implement connector classes (such as `IndriSentences`) by yourself.\n",
    "\n",
    "In order to use a latent semantic model for retrieval, you need to:\n",
    "   * build a representation of the query **q**,\n",
    "   * build a representation of the document **d**,\n",
    "   * calculate the similarity between **q** and **d** (e.g., cosine similarity, KL-divergence).\n",
    "     \n",
    "The exact implementation here depends on the latent semantic model you are using. For example, in the case of word2vec, you only have vectors for individual words and not for documents or phrases. Try one of the following methods for producing these representations:\n",
    "   * Average or sum the word vectors.\n",
    "   * Cluster words in the document using [k-means](http://scikit-learn.org/stable/modules/generated/sklearn.cluster.KMeans.html) and use the centroid of the most important cluster. Experiment with different values of K for k-means.\n",
    "   * Using the [bag-of-word-embeddings representation](https://ciir-publications.cs.umass.edu/pub/web/getpdf.php?id=1248). **[10 bonus points]**\n",
    "   \n",
    "Each of these LSMs come with various hyperparameters to tune. Make a choice on the parameters, and explicitly mention the reasons that led you to these decisions. You can use the validation set to optimize hyper parameters you see fit; motivate your decisions. In addition, mention clearly how the query/document representations were constructed for each LSM and explain your choices.\n",
    "\n",
    "In this experiment, you will first obtain an initial top-1000 ranking for each query using TF-IDF in **Task 1**, and then re-rank the documents using the LSMs. Use TREC Eval to obtain the results and report on `NDCG@10`, Mean Average Precision (`MAP@1000`), `Precision@5` and `Recall@1000`.\n",
    "\n",
    "Perform significance testing **[5 points]** (similar as in Task 1) in the class of semantic matching methods."
   ]
  },
  {
   "cell_type": "code",
   "execution_count": null,
   "metadata": {
    "collapsed": true
   },
   "outputs": [],
   "source": []
  },
  {
   "cell_type": "markdown",
   "metadata": {},
   "source": [
    "### Task 3: Learning to rank (LTR) [10 points] ###\n",
    "\n",
    "In this task you will get an introduction into learning to rank for information retrieval. You will experiment with a pointwise learning to rank method, logistic regression, implemented in [scikit-learn](http://scikit-learn.org/stable/modules/generated/sklearn.linear_model.LogisticRegression.html).\n",
    "\n",
    "**NOTE**: you can only perform this task if you have completely finished Task 1 and Task 2.\n",
    "\n",
    "In this experiment, you will use the retrieval methods you implemented in Task 1 and Task 2 as features for the learning to rank model. Train your LTR model using 10-fold cross validation on the test set. For every query, first create a document candidate set using the top-1000 documents using TF-IDF. Secondly, compute query-document values using the retrieval models above and use them as features. Note that the feature values of different retrieval methods are likely to be distributed differently.\n",
    "\n",
    "Your approach will definitely not be as good as the state-of-the-art since you are taking a pointwise approach, but we do not ask you to try pair- or listwise methods because they will be the main topic of the next assignment."
   ]
  },
  {
   "cell_type": "code",
   "execution_count": 1,
   "metadata": {
    "collapsed": false
   },
   "outputs": [],
   "source": [
    "from sklearn.linear_model import LogisticRegression"
   ]
  },
  {
   "cell_type": "markdown",
   "metadata": {
    "collapsed": true
   },
   "source": [
    "### Task 4: Write a report [20 points; instant FAIL if not provided] ###\n",
    "\n",
    "The report should be a PDF file created using the [sigconf ACM template](https://www.acm.org/publications/proceedings-template) and will determine a significant part of your grade.\n",
    "\n",
    "   * It should explain what you have implemented, motivate your experiments and detail what you expect to learn from them. **[10 points]**\n",
    "   * Lastly, provide a convincing analysis of your results and conclude the report accordingly. **[10 points]**\n",
    "      * Do all methods perform similarly on all queries? Why?\n",
    "      * Is there a single retrieval model that outperforms all other retrieval models (i.e., silver bullet)?\n",
    "      * ...\n",
    "\n",
    "**Hand in the report and your self-contained implementation source files.** Do not send us the VirtualBox, but only the files that matter, organized in a well-documented zip/tgz file with clear instructions on how to reproduce your results. That is, we want to be able to regenerate all your results with minimal effort. You can assume that the index and ground-truth information is present in the same file system structure as on the VirtualBox.\n"
   ]
  }
 ],
 "metadata": {
  "anaconda-cloud": {},
  "kernelspec": {
   "display_name": "Python 3",
   "language": "python",
   "name": "python3"
  },
  "language_info": {
   "codemirror_mode": {
    "name": "ipython",
    "version": 3
   },
   "file_extension": ".py",
   "mimetype": "text/x-python",
   "name": "python",
   "nbconvert_exporter": "python",
   "pygments_lexer": "ipython3",
   "version": "3.5.2"
  }
 },
 "nbformat": 4,
 "nbformat_minor": 0
}
